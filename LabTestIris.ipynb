{
  "nbformat": 4,
  "nbformat_minor": 0,
  "metadata": {
    "colab": {
      "name": "LabTestIris.ipynb",
      "version": "0.3.2",
      "provenance": [],
      "collapsed_sections": [],
      "toc_visible": true,
      "include_colab_link": true
    },
    "kernelspec": {
      "name": "python3",
      "display_name": "Python 3"
    }
  },
  "cells": [
    {
      "cell_type": "markdown",
      "metadata": {
        "id": "view-in-github",
        "colab_type": "text"
      },
      "source": [
        "<a href=\"https://colab.research.google.com/github/lapalb/AI_Lab/blob/master/LabTestIris.ipynb\" target=\"_parent\"><img src=\"https://colab.research.google.com/assets/colab-badge.svg\" alt=\"Open In Colab\"/></a>"
      ]
    },
    {
      "metadata": {
        "id": "uJxMclZAuevI",
        "colab_type": "text"
      },
      "cell_type": "markdown",
      "source": [
        "#Generating The Accuracy Scores"
      ]
    },
    {
      "metadata": {
        "id": "dG7E0XaKt3O5",
        "colab_type": "text"
      },
      "cell_type": "markdown",
      "source": [
        "#Importing Libraries"
      ]
    },
    {
      "metadata": {
        "id": "i7rvN2h6WDyQ",
        "colab_type": "code",
        "colab": {}
      },
      "cell_type": "code",
      "source": [
        "#Importing Libraries\n",
        "import numpy as np\n",
        "import pandas as pd\n",
        "import sklearn"
      ],
      "execution_count": 0,
      "outputs": []
    },
    {
      "metadata": {
        "id": "Lt9hHiGrt6o-",
        "colab_type": "text"
      },
      "cell_type": "markdown",
      "source": [
        "#Reading Our Dataset and Applying Label Encoder"
      ]
    },
    {
      "metadata": {
        "id": "km9ast7jWkUv",
        "colab_type": "code",
        "colab": {}
      },
      "cell_type": "code",
      "source": [
        "#Reading the Iris Dataset\n",
        "df=pd.read_csv('iris.csv',names=['sepal length','sepal width','petal length','petal width','class'])\n",
        "#Preporocessign the Output\n",
        "from sklearn.preprocessing import LabelEncoder\n",
        "le=LabelEncoder()\n",
        "df['class']=le.fit_transform(df['class'])"
      ],
      "execution_count": 0,
      "outputs": []
    },
    {
      "metadata": {
        "id": "QslQk2XKuAzR",
        "colab_type": "text"
      },
      "cell_type": "markdown",
      "source": [
        "#Generating Our Test and Training Data"
      ]
    },
    {
      "metadata": {
        "id": "uwWjtSAhWxBW",
        "colab_type": "code",
        "colab": {}
      },
      "cell_type": "code",
      "source": [
        "#Splitting the data in train set and test set\n",
        "from sklearn.model_selection import train_test_split\n",
        "X=df[df.columns[:-1]]\n",
        "y=df['class']\n",
        "X_train, X_test, y_train,y_test=train_test_split(X,y,test_size=0.8, random_state=69)"
      ],
      "execution_count": 0,
      "outputs": []
    },
    {
      "metadata": {
        "id": "l2rM3nQCuMPM",
        "colab_type": "text"
      },
      "cell_type": "markdown",
      "source": [
        "#Importing The Model and fitting the data to it"
      ]
    },
    {
      "metadata": {
        "id": "ucM-7qgCW0bV",
        "colab_type": "code",
        "colab": {
          "base_uri": "https://localhost:8080/",
          "height": 51
        },
        "outputId": "c5bdffc6-f4ac-4aad-d7b4-8de29b3afdbc"
      },
      "cell_type": "code",
      "source": [
        "#Training a MLP Classifier\n",
        "from sklearn.neural_network import MLPClassifier\n",
        "clf = MLPClassifier(solver='lbfgs', alpha=1e-5,hidden_layer_sizes=(5), random_state=1,activation='logistic')\n",
        "clf.fit(X_train, y_train)\n",
        "#print(clf.predict(X_test[:1]),\"::::::\",y_test[:1])"
      ],
      "execution_count": 6,
      "outputs": [
        {
          "output_type": "stream",
          "text": [
            "[1] :::::: 4.9  0.166667  2.5  0.208333    2\n",
            "Name: class, dtype: int64\n"
          ],
          "name": "stdout"
        }
      ]
    },
    {
      "metadata": {
        "id": "yGgoyEIakK0p",
        "colab_type": "text"
      },
      "cell_type": "markdown",
      "source": [
        "# New Section"
      ]
    },
    {
      "metadata": {
        "id": "QgOeOFTOW05x",
        "colab_type": "code",
        "colab": {
          "base_uri": "https://localhost:8080/",
          "height": 51
        },
        "outputId": "9f37373f-bd72-42b1-a3fb-bf4fa007623c"
      },
      "cell_type": "code",
      "source": [
        "#Getting the Score on training and testing set\n",
        "print('Score on training data', clf.score(X_train,y_train)*100)\n",
        "print('Score on testing data', clf.score(X_test[1:],y_test[1:])*100)"
      ],
      "execution_count": 7,
      "outputs": [
        {
          "output_type": "stream",
          "text": [
            "Score on training data 100.0\n",
            "Score on testing data 94.9367088607595\n"
          ],
          "name": "stdout"
        }
      ]
    },
    {
      "metadata": {
        "id": "SreuISwYW4b2",
        "colab_type": "code",
        "colab": {}
      },
      "cell_type": "code",
      "source": [
        ""
      ],
      "execution_count": 0,
      "outputs": []
    }
  ]
}