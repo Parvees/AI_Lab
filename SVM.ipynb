{
  "nbformat": 4,
  "nbformat_minor": 0,
  "metadata": {
    "colab": {
      "name": "SVM.ipynb",
      "version": "0.3.2",
      "provenance": [],
      "collapsed_sections": [],
      "include_colab_link": true
    },
    "kernelspec": {
      "name": "python3",
      "display_name": "Python 3"
    }
  },
  "cells": [
    {
      "cell_type": "markdown",
      "metadata": {
        "id": "view-in-github",
        "colab_type": "text"
      },
      "source": [
        "[View in Colaboratory](https://colab.research.google.com/github/lapalb/AI_Lab/blob/master/SVM.ipynb)"
      ]
    },
    {
      "metadata": {
        "id": "bEGlBVgoM2yC",
        "colab_type": "code",
        "colab": {}
      },
      "cell_type": "code",
      "source": [
        "#SVM using Library\n",
        "from sklearn import svm\n",
        "X=[[1,0],[0,1],[-1,0],[0,-1],[3,-2],[3,2],[6,2],[6,-2]]\n",
        "y=[-1,-1,-1,-1,1,1,1,1]"
      ],
      "execution_count": 0,
      "outputs": []
    },
    {
      "metadata": {
        "id": "G4x-4Ve2QK1I",
        "colab_type": "code",
        "colab": {
          "base_uri": "https://localhost:8080/",
          "height": 90
        },
        "outputId": "593a76d4-7b83-4b32-bff3-fe6471fb9157"
      },
      "cell_type": "code",
      "source": [
        "#getting the Classifier\n",
        "clf=svm.SVC(kernel='linear')\n",
        "clf.fit(X,y)"
      ],
      "execution_count": 2,
      "outputs": [
        {
          "output_type": "execute_result",
          "data": {
            "text/plain": [
              "SVC(C=1.0, cache_size=200, class_weight=None, coef0=0.0,\n",
              "  decision_function_shape='ovr', degree=3, gamma='auto', kernel='linear',\n",
              "  max_iter=-1, probability=False, random_state=None, shrinking=True,\n",
              "  tol=0.001, verbose=False)"
            ]
          },
          "metadata": {
            "tags": []
          },
          "execution_count": 2
        }
      ]
    },
    {
      "metadata": {
        "id": "EwluRJhlQ4i6",
        "colab_type": "code",
        "colab": {
          "base_uri": "https://localhost:8080/",
          "height": 109
        },
        "outputId": "388925c8-e41c-483c-ceb1-36c871e46d87"
      },
      "cell_type": "code",
      "source": [
        "#Getting the Support Vectors\n",
        "print(\"The Support Vectors are : \", clf.support_vectors_)\n",
        "print(\"The Number of Support of Each Class: \",clf.n_support_)\n",
        "print(\"The Support is: \",clf.support_)"
      ],
      "execution_count": 3,
      "outputs": [
        {
          "output_type": "stream",
          "text": [
            "The Support Vectors are :  [[ 1.  0.]\n",
            " [ 3. -2.]\n",
            " [ 3.  2.]]\n",
            "The Number of Support of Each Class:  [1 2]\n",
            "The Support is:  [0 4 5]\n"
          ],
          "name": "stdout"
        }
      ]
    },
    {
      "metadata": {
        "id": "xRjdWsSzRBIJ",
        "colab_type": "code",
        "colab": {
          "base_uri": "https://localhost:8080/",
          "height": 35
        },
        "outputId": "70bf870a-d453-4cff-d5a0-b7c3168839a9"
      },
      "cell_type": "code",
      "source": [
        "clf.support_"
      ],
      "execution_count": 4,
      "outputs": [
        {
          "output_type": "execute_result",
          "data": {
            "text/plain": [
              "array([0, 4, 5], dtype=int32)"
            ]
          },
          "metadata": {
            "tags": []
          },
          "execution_count": 4
        }
      ]
    },
    {
      "metadata": {
        "id": "nhxMSzAoRRgg",
        "colab_type": "code",
        "colab": {
          "base_uri": "https://localhost:8080/",
          "height": 35
        },
        "outputId": "14304cf9-2cdc-46ea-cbe1-1df2e04524cb"
      },
      "cell_type": "code",
      "source": [
        "print(\"The Coefficient of X and Y in Decision boundry is \", clf.coef_)"
      ],
      "execution_count": 9,
      "outputs": [
        {
          "output_type": "stream",
          "text": [
            "The Coefficient of X and Y in Decision boundry is  [[1.00000000e+00 1.11022302e-16]]\n"
          ],
          "name": "stdout"
        }
      ]
    },
    {
      "metadata": {
        "id": "KxKXhb2uVj03",
        "colab_type": "code",
        "colab": {
          "base_uri": "https://localhost:8080/",
          "height": 35
        },
        "outputId": "0d47ad9d-f30a-4024-a6ac-777a472190f8"
      },
      "cell_type": "code",
      "source": [
        "print(\"The Intercept of Decision boundry is \", clf.coef_)"
      ],
      "execution_count": 10,
      "outputs": [
        {
          "output_type": "stream",
          "text": [
            "The Intercept of Decision boundry is  [[1.00000000e+00 1.11022302e-16]]\n"
          ],
          "name": "stdout"
        }
      ]
    },
    {
      "metadata": {
        "id": "pglt4Vo9XK2W",
        "colab_type": "code",
        "colab": {}
      },
      "cell_type": "code",
      "source": [
        "import matplotlib.pyplot as plt\n",
        "%matplotlib inline"
      ],
      "execution_count": 0,
      "outputs": []
    },
    {
      "metadata": {
        "id": "AjhISYQCYaL7",
        "colab_type": "code",
        "colab": {
          "base_uri": "https://localhost:8080/",
          "height": 283
        },
        "outputId": "412820d0-57fa-4b22-e33e-4c2edb57e018"
      },
      "cell_type": "code",
      "source": [
        "for pt in X:\n",
        "  plt.scatter(pt[0],pt[1])\n",
        "#Separting line\n",
        "xs=[2,2,2,2,2]\n",
        "ys=[-5,-10,0,5,10]\n",
        "plt.plot(xs,ys)"
      ],
      "execution_count": 12,
      "outputs": [
        {
          "output_type": "execute_result",
          "data": {
            "text/plain": [
              "[<matplotlib.lines.Line2D at 0x7f756492fef0>]"
            ]
          },
          "metadata": {
            "tags": []
          },
          "execution_count": 12
        },
        {
          "output_type": "display_data",
          "data": {
            "image/png": "[encoded data removed]",
            "text/plain": [
              "<matplotlib.figure.Figure at 0x7f756492fda0>"
            ]
          },
          "metadata": {
            "tags": []
          }
        }
      ]
    },
    {
      "metadata": {
        "id": "KpZ2BO0TYctW",
        "colab_type": "code",
        "colab": {}
      },
      "cell_type": "code",
      "source": [
        ""
      ],
      "execution_count": 0,
      "outputs": []
    }
  ]
}