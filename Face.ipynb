{
  "nbformat": 4,
  "nbformat_minor": 0,
  "metadata": {
    "colab": {
      "name": "Face.ipynb",
      "version": "0.3.2",
      "provenance": [],
      "collapsed_sections": [],
      "toc_visible": true,
      "include_colab_link": true
    },
    "kernelspec": {
      "name": "python3",
      "display_name": "Python 3"
    },
    "accelerator": "GPU"
  },
  "cells": [
    {
      "cell_type": "markdown",
      "metadata": {
        "id": "view-in-github",
        "colab_type": "text"
      },
      "source": [
        "[View in Colaboratory](https://colab.research.google.com/github/lapalb/AI_Lab/blob/master/Face.ipynb)"
      ]
    },
    {
      "metadata": {
        "id": "iWMHNs0qAUR6",
        "colab_type": "code",
        "colab": {}
      },
      "cell_type": "code",
      "source": [
        "#Importing Libraries\n",
        "import numpy as np\n",
        "import pandas as pd\n",
        "import sklearn\n",
        "from sklearn.model_selection import train_test_split\n",
        "from sklearn.metrics import classification_report\n",
        "from sklearn.decomposition import PCA\n",
        "from sklearn.neural_network import MLPClassifier"
      ],
      "execution_count": 0,
      "outputs": []
    },
    {
      "metadata": {
        "id": "_b5T1YbrBmbR",
        "colab_type": "text"
      },
      "cell_type": "markdown",
      "source": [
        "__Uploading File__"
      ]
    },
    {
      "metadata": {
        "id": "oN-ALilyCvMT",
        "colab_type": "code",
        "colab": {}
      },
      "cell_type": "code",
      "source": [
        ""
      ],
      "execution_count": 0,
      "outputs": []
    },
    {
      "metadata": {
        "id": "SWbd47UYMYBS",
        "colab_type": "code",
        "colab": {
          "base_uri": "https://localhost:8080/",
          "height": 586
        },
        "outputId": "24a35097-67df-4e4c-b119-633691ae4e91"
      },
      "cell_type": "code",
      "source": [
        "lfw_dataset = fetch_lfw_people(min_faces_per_person=100)\n",
        "_, h, w = lfw_dataset.images.shape\n",
        "\n",
        "#The Dataset\n",
        "X = lfw_dataset.data\n",
        "y = lfw_dataset.target\n",
        "target_names = lfw_dataset.target_names\n",
        " \n",
        "# split into a training and testing set\n",
        "X_train, X_test, y_train, y_test = train_test_split(X, y, test_size=0.3)# split into a training and testing set\n",
        "# Compute a PCA \n",
        "n_components = 100\n",
        "pca = PCA(n_components=n_components, whiten=True)\n",
        "pca.fit(X_train)\n",
        " \n",
        "# apply PCA transformation\n",
        "X_train_pca = pca.transform(X_train)\n",
        "X_test_pca = pca.transform(X_test)\n",
        "\n",
        "# train a neural network\n",
        "print(\"Fitting the classifier to the training set\")\n",
        "clf = MLPClassifier(hidden_layer_sizes=(1024,), batch_size=256, verbose=True, early_stopping=True)\n",
        "clf.fit(X_train_pca, y_train)"
      ],
      "execution_count": 18,
      "outputs": [
        {
          "output_type": "stream",
          "text": [
            "Fitting the classifier to the training set\n",
            "Iteration 1, loss = 1.46712956\n",
            "Validation score: 0.537500\n",
            "Iteration 2, loss = 1.09186573\n",
            "Validation score: 0.537500\n",
            "Iteration 3, loss = 0.87444674\n",
            "Validation score: 0.637500\n",
            "Iteration 4, loss = 0.69192832\n",
            "Validation score: 0.737500\n",
            "Iteration 5, loss = 0.54201718\n",
            "Validation score: 0.800000\n",
            "Iteration 6, loss = 0.43689112\n",
            "Validation score: 0.850000\n",
            "Iteration 7, loss = 0.35710998\n",
            "Validation score: 0.862500\n",
            "Iteration 8, loss = 0.29471659\n",
            "Validation score: 0.875000\n",
            "Iteration 9, loss = 0.24385725\n",
            "Validation score: 0.875000\n",
            "Iteration 10, loss = 0.20247447\n",
            "Validation score: 0.862500\n",
            "Iteration 11, loss = 0.16984320\n",
            "Validation score: 0.862500\n",
            "Validation score did not improve more than tol=0.000100 for two consecutive epochs. Stopping.\n"
          ],
          "name": "stdout"
        },
        {
          "output_type": "execute_result",
          "data": {
            "text/plain": [
              "MLPClassifier(activation='relu', alpha=0.0001, batch_size=256, beta_1=0.9,\n",
              "       beta_2=0.999, early_stopping=True, epsilon=1e-08,\n",
              "       hidden_layer_sizes=(1024,), learning_rate='constant',\n",
              "       learning_rate_init=0.001, max_iter=200, momentum=0.9,\n",
              "       nesterovs_momentum=True, power_t=0.5, random_state=None,\n",
              "       shuffle=True, solver='adam', tol=0.0001, validation_fraction=0.1,\n",
              "       verbose=True, warm_start=False)"
            ]
          },
          "metadata": {
            "tags": []
          },
          "execution_count": 18
        }
      ]
    },
    {
      "metadata": {
        "id": "hrUaTlyWWjad",
        "colab_type": "code",
        "colab": {
          "base_uri": "https://localhost:8080/",
          "height": 201
        },
        "outputId": "a8fe763a-4fe8-4c73-9e85-261dd54050e5"
      },
      "cell_type": "code",
      "source": [
        "y_pred = clf.predict(X_test_pca)\n",
        "print(classification_report(y_test, y_pred, target_names=target_names))"
      ],
      "execution_count": 16,
      "outputs": [
        {
          "output_type": "stream",
          "text": [
            "                   precision    recall  f1-score   support\n",
            "\n",
            "     Colin Powell       0.85      0.85      0.85        67\n",
            "  Donald Rumsfeld       0.88      0.55      0.68        38\n",
            "    George W Bush       0.87      0.95      0.90       165\n",
            "Gerhard Schroeder       0.88      0.79      0.84        29\n",
            "       Tony Blair       0.84      0.88      0.86        43\n",
            "\n",
            "      avg / total       0.86      0.86      0.86       342\n",
            "\n"
          ],
          "name": "stdout"
        }
      ]
    },
    {
      "metadata": {
        "id": "YzbpUhuaW6Fz",
        "colab_type": "code",
        "colab": {
          "base_uri": "https://localhost:8080/",
          "height": 35
        },
        "outputId": "dea09c32-c1f8-45db-a5ca-07e7f4612a72"
      },
      "cell_type": "code",
      "source": [
        "#The image dimension is 62*47=2914 and there are 798 records in total\n",
        "X_train.shape"
      ],
      "execution_count": 17,
      "outputs": [
        {
          "output_type": "execute_result",
          "data": {
            "text/plain": [
              "(798, 2914)"
            ]
          },
          "metadata": {
            "tags": []
          },
          "execution_count": 17
        }
      ]
    },
    {
      "metadata": {
        "id": "lXe4xx1AWkLH",
        "colab_type": "code",
        "colab": {}
      },
      "cell_type": "code",
      "source": [
        ""
      ],
      "execution_count": 0,
      "outputs": []
    }
  ]
}