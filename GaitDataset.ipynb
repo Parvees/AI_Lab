{
  "nbformat": 4,
  "nbformat_minor": 0,
  "metadata": {
    "colab": {
      "name": "GaitDataset.ipynb",
      "version": "0.3.2",
      "provenance": []
    },
    "kernelspec": {
      "display_name": "Python 3",
      "language": "python",
      "name": "python3"
    },
    "accelerator": "GPU"
  },
  "cells": [
    {
      "metadata": {
        "id": "8rrGymDC7ORt",
        "colab_type": "code",
        "colab": {}
      },
      "cell_type": "code",
      "source": [
        "#Importing Libraries\n",
        "import numpy as np\n",
        "import pandas as pd"
      ],
      "execution_count": 0,
      "outputs": []
    },
    {
      "metadata": {
        "id": "ZsPDm2cQ7ORy",
        "colab_type": "code",
        "colab": {}
      },
      "cell_type": "code",
      "source": [
        "df=pd.read_csv(\"gait.csv\",names=[\"RH\",\"LH\",\"RK\",\"LK\",\"RA\",\"LA\",\"class\"])"
      ],
      "execution_count": 0,
      "outputs": []
    },
    {
      "metadata": {
        "id": "ma8TzSdP7OR2",
        "colab_type": "code",
        "colab": {},
        "outputId": "bea298f1-2b3d-4aad-962d-96a618d70bcf"
      },
      "cell_type": "code",
      "source": [
        "df.head()"
      ],
      "execution_count": 0,
      "outputs": [
        {
          "output_type": "execute_result",
          "data": {
            "text/html": [
              "<div>\n",
              "<style>\n",
              "    .dataframe thead tr:only-child th {\n",
              "        text-align: right;\n",
              "    }\n",
              "\n",
              "    .dataframe thead th {\n",
              "        text-align: left;\n",
              "    }\n",
              "\n",
              "    .dataframe tbody tr th {\n",
              "        vertical-align: top;\n",
              "    }\n",
              "</style>\n",
              "<table border=\"1\" class=\"dataframe\">\n",
              "  <thead>\n",
              "    <tr style=\"text-align: right;\">\n",
              "      <th></th>\n",
              "      <th>RH</th>\n",
              "      <th>LH</th>\n",
              "      <th>RK</th>\n",
              "      <th>LK</th>\n",
              "      <th>RA</th>\n",
              "      <th>LA</th>\n",
              "      <th>class</th>\n",
              "    </tr>\n",
              "  </thead>\n",
              "  <tbody>\n",
              "    <tr>\n",
              "      <th>0</th>\n",
              "      <td>24.61</td>\n",
              "      <td>-16.56</td>\n",
              "      <td>-3.94</td>\n",
              "      <td>-8.20</td>\n",
              "      <td>-1.70</td>\n",
              "      <td>9.81</td>\n",
              "      <td>0</td>\n",
              "    </tr>\n",
              "    <tr>\n",
              "      <th>1</th>\n",
              "      <td>24.45</td>\n",
              "      <td>-16.82</td>\n",
              "      <td>-6.66</td>\n",
              "      <td>-11.29</td>\n",
              "      <td>-3.25</td>\n",
              "      <td>8.26</td>\n",
              "      <td>0</td>\n",
              "    </tr>\n",
              "    <tr>\n",
              "      <th>2</th>\n",
              "      <td>24.13</td>\n",
              "      <td>-16.53</td>\n",
              "      <td>-9.45</td>\n",
              "      <td>-15.19</td>\n",
              "      <td>-4.68</td>\n",
              "      <td>5.52</td>\n",
              "      <td>0</td>\n",
              "    </tr>\n",
              "    <tr>\n",
              "      <th>3</th>\n",
              "      <td>23.68</td>\n",
              "      <td>-15.40</td>\n",
              "      <td>-12.26</td>\n",
              "      <td>-20.17</td>\n",
              "      <td>-5.08</td>\n",
              "      <td>1.11</td>\n",
              "      <td>0</td>\n",
              "    </tr>\n",
              "    <tr>\n",
              "      <th>4</th>\n",
              "      <td>22.96</td>\n",
              "      <td>-13.44</td>\n",
              "      <td>-14.76</td>\n",
              "      <td>-26.06</td>\n",
              "      <td>-4.17</td>\n",
              "      <td>-4.36</td>\n",
              "      <td>0</td>\n",
              "    </tr>\n",
              "  </tbody>\n",
              "</table>\n",
              "</div>"
            ],
            "text/plain": [
              "      RH     LH     RK     LK    RA    LA  class\n",
              "0  24.61 -16.56  -3.94  -8.20 -1.70  9.81      0\n",
              "1  24.45 -16.82  -6.66 -11.29 -3.25  8.26      0\n",
              "2  24.13 -16.53  -9.45 -15.19 -4.68  5.52      0\n",
              "3  23.68 -15.40 -12.26 -20.17 -5.08  1.11      0\n",
              "4  22.96 -13.44 -14.76 -26.06 -4.17 -4.36      0"
            ]
          },
          "metadata": {
            "tags": []
          },
          "execution_count": 3
        }
      ]
    },
    {
      "metadata": {
        "id": "SqJcUVwO7OR8",
        "colab_type": "code",
        "colab": {
          "base_uri": "https://localhost:8080/",
          "height": 297
        },
        "outputId": "f3387c7f-1a02-40b5-da72-502f9d6285df"
      },
      "cell_type": "code",
      "source": [
        "df.describe()"
      ],
      "execution_count": 6,
      "outputs": [
        {
          "output_type": "execute_result",
          "data": {
            "text/html": [
              "<div>\n",
              "<style scoped>\n",
              "    .dataframe tbody tr th:only-of-type {\n",
              "        vertical-align: middle;\n",
              "    }\n",
              "\n",
              "    .dataframe tbody tr th {\n",
              "        vertical-align: top;\n",
              "    }\n",
              "\n",
              "    .dataframe thead th {\n",
              "        text-align: right;\n",
              "    }\n",
              "</style>\n",
              "<table border=\"1\" class=\"dataframe\">\n",
              "  <thead>\n",
              "    <tr style=\"text-align: right;\">\n",
              "      <th></th>\n",
              "      <th>RH</th>\n",
              "      <th>LH</th>\n",
              "      <th>RK</th>\n",
              "      <th>LK</th>\n",
              "      <th>RA</th>\n",
              "      <th>LA</th>\n",
              "      <th>class</th>\n",
              "    </tr>\n",
              "  </thead>\n",
              "  <tbody>\n",
              "    <tr>\n",
              "      <th>count</th>\n",
              "      <td>194.000000</td>\n",
              "      <td>194.000000</td>\n",
              "      <td>194.000000</td>\n",
              "      <td>194.000000</td>\n",
              "      <td>194.000000</td>\n",
              "      <td>194.000000</td>\n",
              "      <td>194.000000</td>\n",
              "    </tr>\n",
              "    <tr>\n",
              "      <th>mean</th>\n",
              "      <td>4.753114</td>\n",
              "      <td>3.894876</td>\n",
              "      <td>-22.831523</td>\n",
              "      <td>-20.170355</td>\n",
              "      <td>3.108274</td>\n",
              "      <td>0.699646</td>\n",
              "      <td>1.097938</td>\n",
              "    </tr>\n",
              "    <tr>\n",
              "      <th>std</th>\n",
              "      <td>15.544316</td>\n",
              "      <td>15.971763</td>\n",
              "      <td>20.869358</td>\n",
              "      <td>22.104877</td>\n",
              "      <td>6.019425</td>\n",
              "      <td>5.358262</td>\n",
              "      <td>0.785685</td>\n",
              "    </tr>\n",
              "    <tr>\n",
              "      <th>min</th>\n",
              "      <td>-21.978791</td>\n",
              "      <td>-23.849198</td>\n",
              "      <td>-69.740606</td>\n",
              "      <td>-68.433772</td>\n",
              "      <td>-14.070000</td>\n",
              "      <td>-14.070000</td>\n",
              "      <td>0.000000</td>\n",
              "    </tr>\n",
              "    <tr>\n",
              "      <th>25%</th>\n",
              "      <td>-10.146497</td>\n",
              "      <td>-10.786888</td>\n",
              "      <td>-33.700926</td>\n",
              "      <td>-34.560000</td>\n",
              "      <td>-0.007475</td>\n",
              "      <td>-3.091769</td>\n",
              "      <td>0.000000</td>\n",
              "    </tr>\n",
              "    <tr>\n",
              "      <th>50%</th>\n",
              "      <td>8.383730</td>\n",
              "      <td>7.659724</td>\n",
              "      <td>-15.376424</td>\n",
              "      <td>-12.436281</td>\n",
              "      <td>2.134878</td>\n",
              "      <td>0.361346</td>\n",
              "      <td>1.000000</td>\n",
              "    </tr>\n",
              "    <tr>\n",
              "      <th>75%</th>\n",
              "      <td>19.289621</td>\n",
              "      <td>18.123875</td>\n",
              "      <td>-6.656732</td>\n",
              "      <td>-3.045162</td>\n",
              "      <td>7.959450</td>\n",
              "      <td>4.608041</td>\n",
              "      <td>2.000000</td>\n",
              "    </tr>\n",
              "    <tr>\n",
              "      <th>max</th>\n",
              "      <td>25.260000</td>\n",
              "      <td>25.260000</td>\n",
              "      <td>1.896280</td>\n",
              "      <td>3.310921</td>\n",
              "      <td>14.374000</td>\n",
              "      <td>10.750000</td>\n",
              "      <td>2.000000</td>\n",
              "    </tr>\n",
              "  </tbody>\n",
              "</table>\n",
              "</div>"
            ],
            "text/plain": [
              "               RH          LH          RK          LK          RA          LA  \\\n",
              "count  194.000000  194.000000  194.000000  194.000000  194.000000  194.000000   \n",
              "mean     4.753114    3.894876  -22.831523  -20.170355    3.108274    0.699646   \n",
              "std     15.544316   15.971763   20.869358   22.104877    6.019425    5.358262   \n",
              "min    -21.978791  -23.849198  -69.740606  -68.433772  -14.070000  -14.070000   \n",
              "25%    -10.146497  -10.786888  -33.700926  -34.560000   -0.007475   -3.091769   \n",
              "50%      8.383730    7.659724  -15.376424  -12.436281    2.134878    0.361346   \n",
              "75%     19.289621   18.123875   -6.656732   -3.045162    7.959450    4.608041   \n",
              "max     25.260000   25.260000    1.896280    3.310921   14.374000   10.750000   \n",
              "\n",
              "            class  \n",
              "count  194.000000  \n",
              "mean     1.097938  \n",
              "std      0.785685  \n",
              "min      0.000000  \n",
              "25%      0.000000  \n",
              "50%      1.000000  \n",
              "75%      2.000000  \n",
              "max      2.000000  "
            ]
          },
          "metadata": {
            "tags": []
          },
          "execution_count": 6
        }
      ]
    },
    {
      "metadata": {
        "id": "mN24B2F77OR_",
        "colab_type": "code",
        "colab": {
          "base_uri": "https://localhost:8080/",
          "height": 221
        },
        "outputId": "47e1de5f-483c-4f0d-82ed-109ce056f80f"
      },
      "cell_type": "code",
      "source": [
        "df.info()"
      ],
      "execution_count": 7,
      "outputs": [
        {
          "output_type": "stream",
          "text": [
            "<class 'pandas.core.frame.DataFrame'>\n",
            "RangeIndex: 194 entries, 0 to 193\n",
            "Data columns (total 7 columns):\n",
            "RH       194 non-null float64\n",
            "LH       194 non-null float64\n",
            "RK       194 non-null float64\n",
            "LK       194 non-null float64\n",
            "RA       194 non-null float64\n",
            "LA       194 non-null float64\n",
            "class    194 non-null int64\n",
            "dtypes: float64(6), int64(1)\n",
            "memory usage: 10.7 KB\n"
          ],
          "name": "stdout"
        }
      ]
    },
    {
      "metadata": {
        "id": "VRZMIn52CmRk",
        "colab_type": "code",
        "colab": {
          "base_uri": "https://localhost:8080/",
          "height": 85
        },
        "outputId": "296a5bea-ebf6-43cd-e89f-fd06df3998d8"
      },
      "cell_type": "code",
      "source": [
        "df[\"class\"].value_counts()"
      ],
      "execution_count": 79,
      "outputs": [
        {
          "output_type": "execute_result",
          "data": {
            "text/plain": [
              "1    73\n",
              "2    70\n",
              "0    51\n",
              "Name: class, dtype: int64"
            ]
          },
          "metadata": {
            "tags": []
          },
          "execution_count": 79
        }
      ]
    },
    {
      "metadata": {
        "id": "iUOwn1zn7OSD",
        "colab_type": "code",
        "colab": {}
      },
      "cell_type": "code",
      "source": [
        "from sklearn.model_selection import train_test_split\n",
        "from sklearn.metrics import confusion_matrix,classification_report\n",
        "X=df[df.columns[:-1]]\n",
        "y=df['class']\n",
        "X_train, X_test, y_train,y_test=train_test_split(X,y,test_size=0.3 ,random_state=21)"
      ],
      "execution_count": 0,
      "outputs": []
    },
    {
      "metadata": {
        "id": "Gu9dg__77OSF",
        "colab_type": "code",
        "colab": {}
      },
      "cell_type": "code",
      "source": [
        "from sklearn.preprocessing import StandardScaler  \n",
        "scaler = StandardScaler()  \n",
        "scaler.fit(X_train)  \n",
        "X_train = scaler.transform(X_train)  \n",
        "X_test = scaler.transform(X_test)  "
      ],
      "execution_count": 0,
      "outputs": []
    },
    {
      "metadata": {
        "id": "b8PQqgWk8Pht",
        "colab_type": "code",
        "colab": {
          "base_uri": "https://localhost:8080/",
          "height": 51
        },
        "outputId": "7e2003bf-eec2-4001-eaed-d4c53f58c10e"
      },
      "cell_type": "code",
      "source": [
        "print(\"The shape of training data X is \", X_train.shape,\"  and the type is \",type(X_train))\n",
        "print(\"The shape of training data Y is \", y_train.shape,\"  and the type is \",type(y_train))"
      ],
      "execution_count": 139,
      "outputs": [
        {
          "output_type": "stream",
          "text": [
            "The shape of training data X is  (135, 6)   and the type is  <class 'numpy.ndarray'>\n",
            "The shape of training data Y is  (135,)   and the type is  <class 'pandas.core.series.Series'>\n"
          ],
          "name": "stdout"
        }
      ]
    },
    {
      "metadata": {
        "id": "dQXirvonFra8",
        "colab_type": "code",
        "colab": {
          "base_uri": "https://localhost:8080/",
          "height": 408
        },
        "cellView": "both",
        "outputId": "6a7cffc8-4b1f-4827-dc52-5af1b0e0fda9"
      },
      "cell_type": "code",
      "source": [
        "import ast\n",
        "#@title Default title text\n",
        "hidden = \"50,3\" #@param {type:\"string\"}\n",
        "act = \"logistic\" #@param [\"tanh\", \"logistic\", \"identity\", \"relu\"]\n",
        "hidden=ast.literal_eval(hidden)\n",
        "from sklearn.neural_network import MLPClassifier\n",
        "clf = MLPClassifier(solver='lbfgs', alpha=1e-4,hidden_layer_sizes=(hidden), random_state=21,activation=act)\n",
        "clf.fit(X_train, y_train)\n",
        "print(\"THE ACTIVATION FUNCTION IS :\",act )\n",
        "print(clf.predict(X_test[:1]),\"::::::\",y_test[:1])\n",
        "print('Score on training data', clf.score(X_train,y_train)*100)\n",
        "print('Score on testing data', clf.score(X_test,y_test)*100)\n",
        "predictions = clf.predict(X_test)\n",
        "print(\"The confusion matrix is \\n\",confusion_matrix(y_test,predictions))\n",
        "print(\"The Classification report is \\n\",classification_report(y_test,predictions))\n",
        "print(\"The Number of Output is :\",clf.n_outputs_)\n",
        "print(\"The Number of Iteration is :\",clf.n_iter_)\n",
        "print(\"The Number of Layer is :\",clf.n_layers_)\n",
        "print(\"The Loss is :\",clf.loss_)\n",
        "print(\"The Output is :\",clf.classes_ )\n"
      ],
      "execution_count": 155,
      "outputs": [
        {
          "output_type": "stream",
          "text": [
            "THE ACTIVATION FUNCTION IS : logistic\n",
            "[0] :::::: 21    0\n",
            "Name: class, dtype: int64\n",
            "Score on training data 77.77777777777779\n",
            "Score on testing data 59.32203389830508\n",
            "The confusion matrix is \n",
            " [[18  0  0]\n",
            " [ 1 14  1]\n",
            " [ 0 22  3]]\n",
            "The Classification report is \n",
            "              precision    recall  f1-score   support\n",
            "\n",
            "          0       0.95      1.00      0.97        18\n",
            "          1       0.39      0.88      0.54        16\n",
            "          2       0.75      0.12      0.21        25\n",
            "\n",
            "avg / total       0.71      0.59      0.53        59\n",
            "\n",
            "The Number of Output is : 3\n",
            "The Number of Iteration is : 201\n",
            "The Number of Layer is : 4\n",
            "The Loss is : 0.4358864151009168\n",
            "The Output is : [0 1 2]\n"
          ],
          "name": "stdout"
        }
      ]
    }
  ]
}