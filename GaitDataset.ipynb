{
 "cells": [
  {
   "cell_type": "code",
   "execution_count": 1,
   "metadata": {
    "collapsed": true
   },
   "outputs": [],
   "source": [
    "#Importing Libraries\n",
    "import numpy as np\n",
    "import pandas as pd\n",
    "import sklearn"
   ]
  },
  {
   "cell_type": "code",
   "execution_count": 2,
   "metadata": {
    "collapsed": true
   },
   "outputs": [],
   "source": [
    "df=pd.read_csv(\"gait.csv\",names=[\"RH\",\"LH\",\"RK\",\"LK\",\"RA\",\"LA\",\"class\"])"
   ]
  },
  {
   "cell_type": "code",
   "execution_count": 3,
   "metadata": {},
   "outputs": [
    {
     "data": {
      "text/html": [
       "<div>\n",
       "<style>\n",
       "    .dataframe thead tr:only-child th {\n",
       "        text-align: right;\n",
       "    }\n",
       "\n",
       "    .dataframe thead th {\n",
       "        text-align: left;\n",
       "    }\n",
       "\n",
       "    .dataframe tbody tr th {\n",
       "        vertical-align: top;\n",
       "    }\n",
       "</style>\n",
       "<table border=\"1\" class=\"dataframe\">\n",
       "  <thead>\n",
       "    <tr style=\"text-align: right;\">\n",
       "      <th></th>\n",
       "      <th>RH</th>\n",
       "      <th>LH</th>\n",
       "      <th>RK</th>\n",
       "      <th>LK</th>\n",
       "      <th>RA</th>\n",
       "      <th>LA</th>\n",
       "      <th>class</th>\n",
       "    </tr>\n",
       "  </thead>\n",
       "  <tbody>\n",
       "    <tr>\n",
       "      <th>0</th>\n",
       "      <td>24.61</td>\n",
       "      <td>-16.56</td>\n",
       "      <td>-3.94</td>\n",
       "      <td>-8.20</td>\n",
       "      <td>-1.70</td>\n",
       "      <td>9.81</td>\n",
       "      <td>0</td>\n",
       "    </tr>\n",
       "    <tr>\n",
       "      <th>1</th>\n",
       "      <td>24.45</td>\n",
       "      <td>-16.82</td>\n",
       "      <td>-6.66</td>\n",
       "      <td>-11.29</td>\n",
       "      <td>-3.25</td>\n",
       "      <td>8.26</td>\n",
       "      <td>0</td>\n",
       "    </tr>\n",
       "    <tr>\n",
       "      <th>2</th>\n",
       "      <td>24.13</td>\n",
       "      <td>-16.53</td>\n",
       "      <td>-9.45</td>\n",
       "      <td>-15.19</td>\n",
       "      <td>-4.68</td>\n",
       "      <td>5.52</td>\n",
       "      <td>0</td>\n",
       "    </tr>\n",
       "    <tr>\n",
       "      <th>3</th>\n",
       "      <td>23.68</td>\n",
       "      <td>-15.40</td>\n",
       "      <td>-12.26</td>\n",
       "      <td>-20.17</td>\n",
       "      <td>-5.08</td>\n",
       "      <td>1.11</td>\n",
       "      <td>0</td>\n",
       "    </tr>\n",
       "    <tr>\n",
       "      <th>4</th>\n",
       "      <td>22.96</td>\n",
       "      <td>-13.44</td>\n",
       "      <td>-14.76</td>\n",
       "      <td>-26.06</td>\n",
       "      <td>-4.17</td>\n",
       "      <td>-4.36</td>\n",
       "      <td>0</td>\n",
       "    </tr>\n",
       "  </tbody>\n",
       "</table>\n",
       "</div>"
      ],
      "text/plain": [
       "      RH     LH     RK     LK    RA    LA  class\n",
       "0  24.61 -16.56  -3.94  -8.20 -1.70  9.81      0\n",
       "1  24.45 -16.82  -6.66 -11.29 -3.25  8.26      0\n",
       "2  24.13 -16.53  -9.45 -15.19 -4.68  5.52      0\n",
       "3  23.68 -15.40 -12.26 -20.17 -5.08  1.11      0\n",
       "4  22.96 -13.44 -14.76 -26.06 -4.17 -4.36      0"
      ]
     },
     "execution_count": 3,
     "metadata": {},
     "output_type": "execute_result"
    }
   ],
   "source": [
    "df.head()"
   ]
  },
  {
   "cell_type": "code",
   "execution_count": 4,
   "metadata": {},
   "outputs": [
    {
     "data": {
      "text/html": [
       "<div>\n",
       "<style>\n",
       "    .dataframe thead tr:only-child th {\n",
       "        text-align: right;\n",
       "    }\n",
       "\n",
       "    .dataframe thead th {\n",
       "        text-align: left;\n",
       "    }\n",
       "\n",
       "    .dataframe tbody tr th {\n",
       "        vertical-align: top;\n",
       "    }\n",
       "</style>\n",
       "<table border=\"1\" class=\"dataframe\">\n",
       "  <thead>\n",
       "    <tr style=\"text-align: right;\">\n",
       "      <th></th>\n",
       "      <th>RH</th>\n",
       "      <th>LH</th>\n",
       "      <th>RK</th>\n",
       "      <th>LK</th>\n",
       "      <th>RA</th>\n",
       "      <th>LA</th>\n",
       "      <th>class</th>\n",
       "    </tr>\n",
       "  </thead>\n",
       "  <tbody>\n",
       "    <tr>\n",
       "      <th>count</th>\n",
       "      <td>194.000000</td>\n",
       "      <td>194.000000</td>\n",
       "      <td>194.000000</td>\n",
       "      <td>194.000000</td>\n",
       "      <td>194.000000</td>\n",
       "      <td>194.000000</td>\n",
       "      <td>194.000000</td>\n",
       "    </tr>\n",
       "    <tr>\n",
       "      <th>mean</th>\n",
       "      <td>4.753114</td>\n",
       "      <td>3.894876</td>\n",
       "      <td>-22.831523</td>\n",
       "      <td>-20.170355</td>\n",
       "      <td>3.108274</td>\n",
       "      <td>0.699646</td>\n",
       "      <td>1.097938</td>\n",
       "    </tr>\n",
       "    <tr>\n",
       "      <th>std</th>\n",
       "      <td>15.544316</td>\n",
       "      <td>15.971763</td>\n",
       "      <td>20.869358</td>\n",
       "      <td>22.104877</td>\n",
       "      <td>6.019425</td>\n",
       "      <td>5.358262</td>\n",
       "      <td>0.785685</td>\n",
       "    </tr>\n",
       "    <tr>\n",
       "      <th>min</th>\n",
       "      <td>-21.978791</td>\n",
       "      <td>-23.849198</td>\n",
       "      <td>-69.740606</td>\n",
       "      <td>-68.433772</td>\n",
       "      <td>-14.070000</td>\n",
       "      <td>-14.070000</td>\n",
       "      <td>0.000000</td>\n",
       "    </tr>\n",
       "    <tr>\n",
       "      <th>25%</th>\n",
       "      <td>-10.146497</td>\n",
       "      <td>-10.786888</td>\n",
       "      <td>-33.700926</td>\n",
       "      <td>-34.560000</td>\n",
       "      <td>-0.007475</td>\n",
       "      <td>-3.091769</td>\n",
       "      <td>0.000000</td>\n",
       "    </tr>\n",
       "    <tr>\n",
       "      <th>50%</th>\n",
       "      <td>8.383730</td>\n",
       "      <td>7.659724</td>\n",
       "      <td>-15.376424</td>\n",
       "      <td>-12.436281</td>\n",
       "      <td>2.134878</td>\n",
       "      <td>0.361346</td>\n",
       "      <td>1.000000</td>\n",
       "    </tr>\n",
       "    <tr>\n",
       "      <th>75%</th>\n",
       "      <td>19.289621</td>\n",
       "      <td>18.123875</td>\n",
       "      <td>-6.656732</td>\n",
       "      <td>-3.045162</td>\n",
       "      <td>7.959450</td>\n",
       "      <td>4.608041</td>\n",
       "      <td>2.000000</td>\n",
       "    </tr>\n",
       "    <tr>\n",
       "      <th>max</th>\n",
       "      <td>25.260000</td>\n",
       "      <td>25.260000</td>\n",
       "      <td>1.896280</td>\n",
       "      <td>3.310921</td>\n",
       "      <td>14.374000</td>\n",
       "      <td>10.750000</td>\n",
       "      <td>2.000000</td>\n",
       "    </tr>\n",
       "  </tbody>\n",
       "</table>\n",
       "</div>"
      ],
      "text/plain": [
       "               RH          LH          RK          LK          RA          LA  \\\n",
       "count  194.000000  194.000000  194.000000  194.000000  194.000000  194.000000   \n",
       "mean     4.753114    3.894876  -22.831523  -20.170355    3.108274    0.699646   \n",
       "std     15.544316   15.971763   20.869358   22.104877    6.019425    5.358262   \n",
       "min    -21.978791  -23.849198  -69.740606  -68.433772  -14.070000  -14.070000   \n",
       "25%    -10.146497  -10.786888  -33.700926  -34.560000   -0.007475   -3.091769   \n",
       "50%      8.383730    7.659724  -15.376424  -12.436281    2.134878    0.361346   \n",
       "75%     19.289621   18.123875   -6.656732   -3.045162    7.959450    4.608041   \n",
       "max     25.260000   25.260000    1.896280    3.310921   14.374000   10.750000   \n",
       "\n",
       "            class  \n",
       "count  194.000000  \n",
       "mean     1.097938  \n",
       "std      0.785685  \n",
       "min      0.000000  \n",
       "25%      0.000000  \n",
       "50%      1.000000  \n",
       "75%      2.000000  \n",
       "max      2.000000  "
      ]
     },
     "execution_count": 4,
     "metadata": {},
     "output_type": "execute_result"
    }
   ],
   "source": [
    "df.describe()"
   ]
  },
  {
   "cell_type": "code",
   "execution_count": 5,
   "metadata": {},
   "outputs": [
    {
     "name": "stdout",
     "output_type": "stream",
     "text": [
      "<class 'pandas.core.frame.DataFrame'>\n",
      "RangeIndex: 194 entries, 0 to 193\n",
      "Data columns (total 7 columns):\n",
      "RH       194 non-null float64\n",
      "LH       194 non-null float64\n",
      "RK       194 non-null float64\n",
      "LK       194 non-null float64\n",
      "RA       194 non-null float64\n",
      "LA       194 non-null float64\n",
      "class    194 non-null int64\n",
      "dtypes: float64(6), int64(1)\n",
      "memory usage: 10.7 KB\n"
     ]
    }
   ],
   "source": [
    "df.info()"
   ]
  },
  {
   "cell_type": "code",
   "execution_count": 40,
   "metadata": {},
   "outputs": [],
   "source": [
    "from sklearn.model_selection import train_test_split\n",
    "from sklearn.metrics import confusion_matrix,classification_report\n",
    "X=df[df.columns[:-1]]\n",
    "y=df['class']\n",
    "X_train, X_test, y_train,y_test=train_test_split(X,y,test_size=0.75 ,random_state=44)"
   ]
  },
  {
   "cell_type": "code",
   "execution_count": 41,
   "metadata": {},
   "outputs": [],
   "source": [
    "from sklearn.preprocessing import StandardScaler  \n",
    "scaler = StandardScaler()  \n",
    "# Don't cheat - fit only on training data\n",
    "scaler.fit(X_train)  \n",
    "X_train = scaler.transform(X_train)  \n",
    "# apply same transformation to test data\n",
    "X_test = scaler.transform(X_test)  "
   ]
  },
  {
   "cell_type": "code",
   "execution_count": 42,
   "metadata": {},
   "outputs": [
    {
     "name": "stdout",
     "output_type": "stream",
     "text": [
      "[0] :::::: 46    0\n",
      "Name: class, dtype: int64\n"
     ]
    }
   ],
   "source": [
    "from sklearn.neural_network import MLPClassifier\n",
    "clf = MLPClassifier(solver='lbfgs', alpha=1e-4,hidden_layer_sizes=((6,6,3)), random_state=1,activation=\"identity\")\n",
    "clf.fit(X_train, y_train)\n",
    "print(clf.predict(X_test[:1]),\"::::::\",y_test[:1])"
   ]
  },
  {
   "cell_type": "code",
   "execution_count": 43,
   "metadata": {},
   "outputs": [
    {
     "name": "stdout",
     "output_type": "stream",
     "text": [
      "Score on training data 68.75\n",
      "Score on testing data 54.794520547945204\n",
      "The confusion matrix is \n",
      " [[32 10  0]\n",
      " [ 3 29 20]\n",
      " [ 1 32 19]]\n",
      "The Classification report is \n",
      "              precision    recall  f1-score   support\n",
      "\n",
      "          0       0.89      0.76      0.82        42\n",
      "          1       0.41      0.56      0.47        52\n",
      "          2       0.49      0.37      0.42        52\n",
      "\n",
      "avg / total       0.57      0.55      0.55       146\n",
      "\n"
     ]
    }
   ],
   "source": [
    "print('Score on training data', clf.score(X_train,y_train)*100)\n",
    "print('Score on testing data', clf.score(X_test,y_test)*100)\n",
    "predictions = clf.predict(X_test)\n",
    "print(\"The confusion matrix is \\n\",confusion_matrix(y_test,predictions))\n",
    "print(\"The Classification report is \\n\",classification_report(y_test,predictions))"
   ]
  },
  {
   "cell_type": "code",
   "execution_count": null,
   "metadata": {
    "collapsed": true
   },
   "outputs": [],
   "source": []
  },
  {
   "cell_type": "code",
   "execution_count": 10,
   "metadata": {},
   "outputs": [
    {
     "name": "stdout",
     "output_type": "stream",
     "text": [
      "Score on testing data 28.767123287671232\n"
     ]
    }
   ],
   "source": [
    "#Using SVM Classifier\n",
    "from sklearn.svm import SVC\n",
    "svc=SVC()\n",
    "svc.fit(X_train,y_train)\n",
    "#print('Score on training data', svc.score(X_train,y_train)*100)\n",
    "print('Score on testing data', svc.score(X_test,y_test)*100)"
   ]
  },
  {
   "cell_type": "code",
   "execution_count": 11,
   "metadata": {},
   "outputs": [
    {
     "data": {
      "text/plain": [
       "DecisionTreeClassifier(class_weight=None, criterion='gini', max_depth=20,\n",
       "            max_features=None, max_leaf_nodes=None,\n",
       "            min_impurity_split=1e-07, min_samples_leaf=1,\n",
       "            min_samples_split=2, min_weight_fraction_leaf=0.0,\n",
       "            presort=False, random_state=None, splitter='best')"
      ]
     },
     "execution_count": 11,
     "metadata": {},
     "output_type": "execute_result"
    }
   ],
   "source": [
    "from sklearn.tree import DecisionTreeClassifier\n",
    "clf=DecisionTreeClassifier(max_depth=20)\n",
    "clf.fit(X_train,y_train)"
   ]
  },
  {
   "cell_type": "code",
   "execution_count": 12,
   "metadata": {},
   "outputs": [
    {
     "data": {
      "text/plain": [
       "0.4246575342465753"
      ]
     },
     "execution_count": 12,
     "metadata": {},
     "output_type": "execute_result"
    }
   ],
   "source": [
    "clf.score(X_test,y_test)"
   ]
  },
  {
   "cell_type": "code",
   "execution_count": null,
   "metadata": {
    "collapsed": true
   },
   "outputs": [],
   "source": []
  }
 ],
 "metadata": {
  "kernelspec": {
   "display_name": "Python 3",
   "language": "python",
   "name": "python3"
  },
  "language_info": {
   "codemirror_mode": {
    "name": "ipython",
    "version": 3
   },
   "file_extension": ".py",
   "mimetype": "text/x-python",
   "name": "python",
   "nbconvert_exporter": "python",
   "pygments_lexer": "ipython3",
   "version": "3.6.1"
  }
 },
 "nbformat": 4,
 "nbformat_minor": 2
}
